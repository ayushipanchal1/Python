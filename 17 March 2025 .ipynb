{
 "cells": [
  {
   "cell_type": "code",
   "execution_count": 1,
   "id": "139f8b9f-dcee-4f8e-ba82-b82b84984374",
   "metadata": {},
   "outputs": [],
   "source": [
    "# Defining function\n",
    "\n",
    "def myfunction():\n",
    "    print(\"Hello my first function\")"
   ]
  },
  {
   "cell_type": "code",
   "execution_count": 2,
   "id": "0523f0d0-5d77-4126-8ca5-527f6704dd66",
   "metadata": {},
   "outputs": [
    {
     "name": "stdout",
     "output_type": "stream",
     "text": [
      "Hello my first function\n"
     ]
    }
   ],
   "source": [
    "myfunction()    # Callling of  a function"
   ]
  },
  {
   "cell_type": "code",
   "execution_count": 4,
   "id": "6bc02411-e534-49d4-b95e-f2753945be9e",
   "metadata": {},
   "outputs": [
    {
     "name": "stdout",
     "output_type": "stream",
     "text": [
      "10\n"
     ]
    }
   ],
   "source": [
    "# Paramaterized function\n",
    "\n",
    "def add(a,b):\n",
    "    print(a+b)\n",
    "add(4,6)"
   ]
  },
  {
   "cell_type": "code",
   "execution_count": 1,
   "id": "e1dc1e0a-2ad8-41ed-bea3-8aa1b97467c1",
   "metadata": {},
   "outputs": [
    {
     "name": "stdout",
     "output_type": "stream",
     "text": [
      "11\n",
      "14\n"
     ]
    }
   ],
   "source": [
    "# Default paramterized function\n",
    "\n",
    "def add(a,b=5,c=2):     # any default variables will be declared at last therefore over here b and c are followed by a\n",
    "    print(a+b+c)\n",
    "add(4)\n",
    "add(5,6,3)              # value of default variable can also be updated while calling the function"
   ]
  },
  {
   "cell_type": "code",
   "execution_count": 7,
   "id": "deac1f6a-ca3c-4383-a14e-3a7610bdec8c",
   "metadata": {},
   "outputs": [
    {
     "name": "stdout",
     "output_type": "stream",
     "text": [
      "([45, 17, 28, 97, 46],)\n"
     ]
    }
   ],
   "source": [
    "# Variable length arguments denoted with ' * '\n",
    "\n",
    "def mymethod(*a):\n",
    "    print(a)\n",
    "myvar = mymethod([45,17,28,97,46])"
   ]
  },
  {
   "cell_type": "code",
   "execution_count": 14,
   "id": "35c2340d-e042-4ada-bff6-70401ed6c4c4",
   "metadata": {},
   "outputs": [
    {
     "name": "stdout",
     "output_type": "stream",
     "text": [
      "16\n",
      "4\n",
      "49\n",
      "36\n"
     ]
    }
   ],
   "source": [
    "# Using variable length arguments for squaring numbers\n",
    "\n",
    "def square(*a):\n",
    "    for i in a:\n",
    "        print(i*i)\n",
    "square(4,2,7,6)"
   ]
  },
  {
   "cell_type": "code",
   "execution_count": 12,
   "id": "61ee0752-b5a0-4f18-aaa0-0c9da1a9b6b9",
   "metadata": {},
   "outputs": [
    {
     "data": {
      "text/plain": [
       "70"
      ]
     },
     "execution_count": 12,
     "metadata": {},
     "output_type": "execute_result"
    }
   ],
   "source": [
    "# Lambda is a one line function also known as anonymous function which has no name\n",
    "num = lambda a : a*5\n",
    "num(14)"
   ]
  },
  {
   "cell_type": "code",
   "execution_count": 6,
   "id": "fe1da54a-938b-44a4-8e9a-2d4c3f40b17e",
   "metadata": {},
   "outputs": [
    {
     "name": "stdout",
     "output_type": "stream",
     "text": [
      "[6084, 529, 2025, 4489, 7921, 15129]\n"
     ]
    }
   ],
   "source": [
    "# Map function is used with each iterable object and will apply to each element of list\n",
    "\n",
    "list1 = [78,23,45,67,89,123]\n",
    "sqr = list(map(lambda x:x**2,list1))\n",
    "print(sqr)"
   ]
  },
  {
   "cell_type": "code",
   "execution_count": 4,
   "id": "cbbec79d-2f0e-4f27-8bd7-2664a4f85100",
   "metadata": {},
   "outputs": [
    {
     "name": "stdout",
     "output_type": "stream",
     "text": [
      "[78]\n"
     ]
    }
   ],
   "source": [
    "# To filter list for even numbers\n",
    "\n",
    "sqr = list(filter(lambda x:x%2==0,list1))\n",
    "print(sqr)"
   ]
  },
  {
   "cell_type": "code",
   "execution_count": 5,
   "id": "948c1b19-518c-4103-bc4f-b32e6b625846",
   "metadata": {
    "scrolled": true
   },
   "outputs": [
    {
     "name": "stdout",
     "output_type": "stream",
     "text": [
      "[23, 45, 67, 89, 123]\n",
      "[78, 67, 89, 123]\n"
     ]
    }
   ],
   "source": [
    "# For odd numbers\n",
    "\n",
    "sqr = list(filter(lambda x:x%2!=0,list1))\n",
    "grt = list(filter(lambda x:x>50,list1))\n",
    "print(sqr)\n",
    "print(grt)"
   ]
  },
  {
   "cell_type": "code",
   "execution_count": 8,
   "id": "d98d3212-046e-4ffb-a2bf-2d554dd8a733",
   "metadata": {},
   "outputs": [],
   "source": [
    "# Using Reduce to add elements of the list\n",
    "\n",
    "from functools import reduce\n",
    "sum = reduce(lambda x,y : x+y,list1)"
   ]
  },
  {
   "cell_type": "code",
   "execution_count": 33,
   "id": "01b4c254-534a-44a6-ad64-96e8151f8028",
   "metadata": {},
   "outputs": [
    {
     "name": "stdout",
     "output_type": "stream",
     "text": [
      "425\n"
     ]
    }
   ],
   "source": [
    "print(sum)"
   ]
  },
  {
   "cell_type": "code",
   "execution_count": 2,
   "id": "068180c0-5df0-44ae-bb30-5dd659d76297",
   "metadata": {},
   "outputs": [
    {
     "data": {
      "text/plain": [
       "[('Ayushi', 21), ('Dhruv', 47), ('Vraj', 63)]"
      ]
     },
     "execution_count": 2,
     "metadata": {},
     "output_type": "execute_result"
    }
   ],
   "source": [
    "# Sorting list based on second element\n",
    "\n",
    "var1=[(\"Ayushi\",21),(\"Vraj\",63),(\"Dhruv\",47)]\n",
    "var1.sort(key = lambda x:x[1])\n",
    "var1"
   ]
  },
  {
   "cell_type": "code",
   "execution_count": 54,
   "id": "e4c13b41-c330-45dc-ac9d-dc3ae1d3b468",
   "metadata": {},
   "outputs": [
    {
     "data": {
      "text/plain": [
       "'Pineapple'"
      ]
     },
     "execution_count": 54,
     "metadata": {},
     "output_type": "execute_result"
    }
   ],
   "source": [
    "# To get word of maximum length\n",
    "\n",
    "list1=[\"Apple\",\"Banana\",\"Pineapple\",\"Papaya\",\"Z\"]\n",
    "max(list1 , key =len)"
   ]
  },
  {
   "cell_type": "code",
   "execution_count": 55,
   "id": "9d77c955-75ba-49ab-8b2e-8212a5cf24a7",
   "metadata": {},
   "outputs": [
    {
     "data": {
      "text/plain": [
       "'Z'"
      ]
     },
     "execution_count": 55,
     "metadata": {},
     "output_type": "execute_result"
    }
   ],
   "source": [
    "max(list1)  # To get word based of maximum ascii value of first alpabet"
   ]
  },
  {
   "cell_type": "code",
   "execution_count": 50,
   "id": "710629ec-9381-4600-8e93-d08a2bf18b5d",
   "metadata": {},
   "outputs": [
    {
     "data": {
      "text/plain": [
       "'Apple'"
      ]
     },
     "execution_count": 50,
     "metadata": {},
     "output_type": "execute_result"
    }
   ],
   "source": [
    "min(list1)  # To get word based of minimum ascii value of first alpabet"
   ]
  },
  {
   "cell_type": "code",
   "execution_count": 11,
   "id": "54186e47-a2b0-461d-8c6a-e43baf870131",
   "metadata": {},
   "outputs": [
    {
     "name": "stdout",
     "output_type": "stream",
     "text": [
      "Number of names starting with 'S': 3\n"
     ]
    }
   ],
   "source": [
    "# Countin words starting with letter 'S'\n",
    "list2 = [\"Ayushi\",\"Sonakshi\",\"Riya\",\"Shraddha\",\"Simran\"]\n",
    "count = len(list(filter(lambda list2: list2.startswith(\"S\"), list2)))\n",
    "\n",
    "print(\"Number of names starting with 'S':\", count)"
   ]
  },
  {
   "cell_type": "code",
   "execution_count": null,
   "id": "87016bb9-7df0-42c7-96e6-59d58341351f",
   "metadata": {},
   "outputs": [],
   "source": []
  },
  {
   "cell_type": "code",
   "execution_count": null,
   "id": "b1509465-f456-4753-bad5-518881ed85b8",
   "metadata": {},
   "outputs": [],
   "source": []
  }
 ],
 "metadata": {
  "kernelspec": {
   "display_name": "Python 3 (ipykernel)",
   "language": "python",
   "name": "python3"
  },
  "language_info": {
   "codemirror_mode": {
    "name": "ipython",
    "version": 3
   },
   "file_extension": ".py",
   "mimetype": "text/x-python",
   "name": "python",
   "nbconvert_exporter": "python",
   "pygments_lexer": "ipython3",
   "version": "3.12.7"
  }
 },
 "nbformat": 4,
 "nbformat_minor": 5
}
