{
 "cells": [
  {
   "cell_type": "code",
   "execution_count": 1,
   "id": "5946e43c-1f79-4258-ad37-5a15a9087fae",
   "metadata": {},
   "outputs": [],
   "source": [
    "# basic modes in file Handling...\n",
    "# r= reading\n",
    "# w=writing\n",
    "# x=create\n",
    "# a=append\n",
    "myfile=open(\"C:\\\\Users\\\\Ayushi Panchal\\\\OneDrive\\\\Desktop\\\\pythonbasic.txt\")"
   ]
  },
  {
   "cell_type": "code",
   "execution_count": 2,
   "id": "20cac201-1109-4057-8346-3df8fc1844c8",
   "metadata": {},
   "outputs": [
    {
     "data": {
      "text/plain": [
       "'hello!\\nhow are you?\\nAyushi\\nRiya\\nDhruv\\nMelony\\n'"
      ]
     },
     "execution_count": 2,
     "metadata": {},
     "output_type": "execute_result"
    }
   ],
   "source": [
    "# The read() method in Python is used to read data from a file. It allows you to read the entire file or a specific number of characters.\n",
    "\n",
    "myfile.read()"
   ]
  },
  {
   "cell_type": "code",
   "execution_count": 19,
   "id": "ab91fd8a-b50c-4552-b28b-903ccb31e24a",
   "metadata": {},
   "outputs": [
    {
     "data": {
      "text/plain": [
       "0"
      ]
     },
     "execution_count": 19,
     "metadata": {},
     "output_type": "execute_result"
    }
   ],
   "source": [
    "# The seek() method in Python is used to move the file cursor (pointer) to a specific position in a file. It allows you to control where reading or writing begins.\n",
    "\n",
    "myfile.seek(0)"
   ]
  },
  {
   "cell_type": "code",
   "execution_count": 8,
   "id": "26830f83-af89-4647-973a-b03783a66b48",
   "metadata": {},
   "outputs": [],
   "source": [
    "# For creating a file in which we can write using 'w' mode\n",
    "\n",
    "myfile=open(\"C:\\\\Users\\\\Ayushi Panchal\\\\OneDrive\\\\Desktop\\\\basic.txt\",\"w\")"
   ]
  },
  {
   "cell_type": "code",
   "execution_count": 9,
   "id": "3d7e78e1-8101-4fd9-bc03-2a0b7669dc82",
   "metadata": {},
   "outputs": [
    {
     "data": {
      "text/plain": [
       "29"
      ]
     },
     "execution_count": 9,
     "metadata": {},
     "output_type": "execute_result"
    }
   ],
   "source": [
    "myfile.write(\"Hello\\nJava\\nPython\\nDataScience\")"
   ]
  },
  {
   "cell_type": "code",
   "execution_count": 34,
   "id": "e8aff8e0-22f1-4e11-be98-2ed7f2bac3c8",
   "metadata": {},
   "outputs": [],
   "source": [
    "myfile.close()"
   ]
  },
  {
   "cell_type": "code",
   "execution_count": 38,
   "id": "18323575-4202-4ef5-a89d-06887dabc08e",
   "metadata": {},
   "outputs": [],
   "source": [
    "# For creating a file in which we can append using 'a' mode\n",
    "\n",
    "myfile=open(\"C:\\\\Users\\\\Ayushi Panchal\\\\OneDrive\\\\Desktop\\\\basic.txt\",\"a\")"
   ]
  },
  {
   "cell_type": "code",
   "execution_count": 39,
   "id": "5db0cef5-a7a1-4c81-9060-266dc1db7ae7",
   "metadata": {},
   "outputs": [
    {
     "data": {
      "text/plain": [
       "40"
      ]
     },
     "execution_count": 39,
     "metadata": {},
     "output_type": "execute_result"
    }
   ],
   "source": [
    "myfile.write(\"\\nNLP used for chatbot and real time data\")"
   ]
  },
  {
   "cell_type": "code",
   "execution_count": 40,
   "id": "ab3e6944-ad74-4f4c-880a-1e2a17bd6bbc",
   "metadata": {},
   "outputs": [],
   "source": [
    "myfile.close()"
   ]
  },
  {
   "cell_type": "code",
   "execution_count": 11,
   "id": "acd09c9e-ca19-4738-9586-a25f6e43f2df",
   "metadata": {},
   "outputs": [],
   "source": []
  },
  {
   "cell_type": "code",
   "execution_count": 20,
   "id": "254c5950-946c-4827-8444-0fb29c6c1771",
   "metadata": {},
   "outputs": [],
   "source": [
    "# Print a to z in following manner\n",
    "import string\n",
    "letters = string.ascii_lowercase"
   ]
  },
  {
   "cell_type": "code",
   "execution_count": 18,
   "id": "2571333c-17ea-43a9-a3bf-9194a783d813",
   "metadata": {},
   "outputs": [],
   "source": [
    "myfile=open(\"C:\\\\Users\\\\Ayushi Panchal\\\\OneDrive\\\\Desktop\\\\basic.txt\",\"w\")"
   ]
  },
  {
   "cell_type": "code",
   "execution_count": 19,
   "id": "ab678dac-846d-4e43-a108-a84e0f67a7aa",
   "metadata": {},
   "outputs": [
    {
     "name": "stdout",
     "output_type": "stream",
     "text": [
      "('a', 'b')\n",
      "('c', 'd')\n",
      "('e', 'f')\n",
      "('g', 'h')\n",
      "('i', 'j')\n",
      "('k', 'l')\n",
      "('m', 'n')\n",
      "('o', 'p')\n",
      "('q', 'r')\n",
      "('s', 't')\n",
      "('u', 'v')\n",
      "('w', 'x')\n",
      "('y', 'z')\n"
     ]
    }
   ],
   "source": [
    "for i in zip(string.ascii_lowercase[0::2],string.ascii_lowercase[1::2]):\n",
    "        print(i)"
   ]
  },
  {
   "cell_type": "code",
   "execution_count": 16,
   "id": "fbf0cab3-d697-42bd-a6e2-49db60c4f661",
   "metadata": {},
   "outputs": [],
   "source": [
    "myfile.close()"
   ]
  }
 ],
 "metadata": {
  "kernelspec": {
   "display_name": "Python 3 (ipykernel)",
   "language": "python",
   "name": "python3"
  },
  "language_info": {
   "codemirror_mode": {
    "name": "ipython",
    "version": 3
   },
   "file_extension": ".py",
   "mimetype": "text/x-python",
   "name": "python",
   "nbconvert_exporter": "python",
   "pygments_lexer": "ipython3",
   "version": "3.12.7"
  }
 },
 "nbformat": 4,
 "nbformat_minor": 5
}
