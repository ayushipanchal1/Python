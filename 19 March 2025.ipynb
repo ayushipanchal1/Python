{
 "cells": [
  {
   "cell_type": "code",
   "execution_count": 1,
   "id": "421e1785-a557-40a5-ab83-53ffe2c5f44f",
   "metadata": {},
   "outputs": [],
   "source": [
    "# OOPs concept in python"
   ]
  },
  {
   "cell_type": "code",
   "execution_count": 2,
   "id": "8078d080-344d-4cee-9d89-ffc69d19c0d2",
   "metadata": {},
   "outputs": [],
   "source": [
    "class myclass:\n",
    "    def add(self,a,b):\n",
    "        print(a+b)"
   ]
  },
  {
   "cell_type": "code",
   "execution_count": 3,
   "id": "0da8cf3a-a571-4def-b87a-0d1b310b44ac",
   "metadata": {},
   "outputs": [],
   "source": [
    "M1 = myclass()"
   ]
  },
  {
   "cell_type": "code",
   "execution_count": 4,
   "id": "a1974950-97e6-4ca1-a689-73abc9a5b88e",
   "metadata": {},
   "outputs": [
    {
     "name": "stdout",
     "output_type": "stream",
     "text": [
      "20\n"
     ]
    }
   ],
   "source": [
    "M1.add(12,8)"
   ]
  },
  {
   "cell_type": "code",
   "execution_count": 29,
   "id": "23e3425a-4937-4f25-b7e4-f763681d0cb4",
   "metadata": {},
   "outputs": [],
   "source": [
    "class student:\n",
    "    def getdetail(self,fname,lname,rollno):\n",
    "        self.fname = fname\n",
    "        self.lname=lname\n",
    "        self.rollno = rollno\n",
    "\n",
    "    def display(self):\n",
    "        print(f\"Name : {self.fname} {self.lname} \\nRoll Number : {self.rollno} \")"
   ]
  },
  {
   "cell_type": "code",
   "execution_count": 30,
   "id": "2655d235-c680-4f7e-9f48-0ffa5988eb82",
   "metadata": {},
   "outputs": [],
   "source": [
    "s1 = student()"
   ]
  },
  {
   "cell_type": "code",
   "execution_count": 31,
   "id": "7d900edc-beb4-49ee-86fb-972034dd2cd6",
   "metadata": {},
   "outputs": [],
   "source": [
    "s1.getdetail(\"Ayushi\",\"Panchal\",21)"
   ]
  },
  {
   "cell_type": "code",
   "execution_count": 32,
   "id": "06453593-384a-4cf8-ae46-455624c97a17",
   "metadata": {},
   "outputs": [
    {
     "name": "stdout",
     "output_type": "stream",
     "text": [
      "Name : Ayushi Panchal \n",
      "Roll Number : 21 \n"
     ]
    }
   ],
   "source": [
    "s1.display()"
   ]
  },
  {
   "cell_type": "code",
   "execution_count": null,
   "id": "86e564e3-39f9-47b8-b68f-16cedc1f05bf",
   "metadata": {},
   "outputs": [],
   "source": [
    "# Constructor.."
   ]
  },
  {
   "cell_type": "code",
   "execution_count": 49,
   "id": "8799dd72-4415-4bcd-bb67-e9743f5e7abc",
   "metadata": {},
   "outputs": [],
   "source": [
    "class Mysample:\n",
    "    def __init__(self):   # Constructor in python\n",
    "        print(\"I am constructor of my sample\")\n",
    "    def __del__(self):    # Destroy the object\n",
    "        pass\n",
    "    def mymethod(self):\n",
    "        print(\"Helloooo!\")  # Will pass this method when deleted"
   ]
  },
  {
   "cell_type": "code",
   "execution_count": 50,
   "id": "c651cd97-1312-49c7-9fe9-7e34fec9ff13",
   "metadata": {},
   "outputs": [
    {
     "name": "stdout",
     "output_type": "stream",
     "text": [
      "I am constructor of my sample\n",
      "Helloooo!\n"
     ]
    }
   ],
   "source": [
    "s2 = Mysample()\n",
    "s2.mymethod()"
   ]
  },
  {
   "cell_type": "code",
   "execution_count": 45,
   "id": "e631dbfe-76d8-4767-bf51-a53d8dede318",
   "metadata": {},
   "outputs": [
    {
     "ename": "AttributeError",
     "evalue": "'Mysample' object has no attribute 'Mysample'",
     "output_type": "error",
     "traceback": [
      "\u001b[1;31m---------------------------------------------------------------------------\u001b[0m",
      "\u001b[1;31mAttributeError\u001b[0m                            Traceback (most recent call last)",
      "Cell \u001b[1;32mIn[45], line 1\u001b[0m\n\u001b[1;32m----> 1\u001b[0m s2\u001b[38;5;241m.\u001b[39mMysample()\n",
      "\u001b[1;31mAttributeError\u001b[0m: 'Mysample' object has no attribute 'Mysample'"
     ]
    }
   ],
   "source": [
    "s2.Mysample()    # Will throw an error because constructor is deleted"
   ]
  },
  {
   "cell_type": "code",
   "execution_count": 51,
   "id": "f54b8ae6-aab0-4273-9e84-cb52d61eb858",
   "metadata": {},
   "outputs": [],
   "source": [
    "class Mysample1:\n",
    "    def __init__(self,a,b):   # Parameterizede constructor in python\n",
    "        print(a+b)"
   ]
  },
  {
   "cell_type": "code",
   "execution_count": 53,
   "id": "f7dc7023-86b6-41fa-b84c-663432993c65",
   "metadata": {},
   "outputs": [
    {
     "name": "stdout",
     "output_type": "stream",
     "text": [
      "30\n"
     ]
    }
   ],
   "source": [
    "s3 = Mysample1(15,15)"
   ]
  },
  {
   "cell_type": "code",
   "execution_count": 54,
   "id": "c6a5d5ec-7e25-4842-b811-314b09b7a319",
   "metadata": {},
   "outputs": [],
   "source": [
    "class stud:\n",
    "    branch = \"rise\"\n",
    "    def details(self,name,rno):\n",
    "        self.name = name\n",
    "        self.rno = rno\n",
    "    def show(self):\n",
    "        print(f\"Name: {self.name} \\nRoll number:{self.rno} \\nBranch: {self.branch}\")"
   ]
  },
  {
   "cell_type": "code",
   "execution_count": 55,
   "id": "afe63b6a-295e-47ab-a294-e9e95739dc2c",
   "metadata": {},
   "outputs": [],
   "source": [
    "s4 = stud()"
   ]
  },
  {
   "cell_type": "code",
   "execution_count": 56,
   "id": "1dcb91bb-659e-42e5-9446-78669c6b5d19",
   "metadata": {},
   "outputs": [],
   "source": [
    "s4.details(\"Ayushi\",895)"
   ]
  },
  {
   "cell_type": "code",
   "execution_count": 57,
   "id": "1298b5d5-0181-45e8-9f31-707313b3d1fe",
   "metadata": {},
   "outputs": [
    {
     "name": "stdout",
     "output_type": "stream",
     "text": [
      "Name: Ayushi \n",
      "Roll number:895 \n",
      "Branch: rise\n"
     ]
    }
   ],
   "source": [
    "s4.show()"
   ]
  },
  {
   "cell_type": "code",
   "execution_count": null,
   "id": "5deb0a94-c110-4574-8bcb-ace2785947eb",
   "metadata": {},
   "outputs": [],
   "source": [
    "# Inheriting constructors from one class to another"
   ]
  },
  {
   "cell_type": "code",
   "execution_count": 58,
   "id": "e7cf9035-79ac-4ea9-844a-869bd4ec3d58",
   "metadata": {},
   "outputs": [],
   "source": [
    "class A:\n",
    "    def __init__(self):\n",
    "        print(\"Constructor from A\")\n",
    "    def feature(self):\n",
    "        print(\"Feature of class A\")\n",
    "    def featureOne(self):\n",
    "        print(\"Hello another feature of class A\")"
   ]
  },
  {
   "cell_type": "code",
   "execution_count": 78,
   "id": "865d7860-a9b6-441f-b7bf-8b019b8cd3ee",
   "metadata": {},
   "outputs": [],
   "source": [
    "class B(A): # Syntax of inherting class A in class B\n",
    "    def __init__(self):\n",
    "        super().__init__()   # Will also display constructor from inherited class that is class A else it will only prioritize constructor from class B\n",
    "        print(\"Hello constructor from class B\")\n",
    "    def featureB(self):\n",
    "        print(\"Feature from class B\")"
   ]
  },
  {
   "cell_type": "code",
   "execution_count": 66,
   "id": "2f29108d-2c56-44e4-9efb-088a122efa8c",
   "metadata": {},
   "outputs": [
    {
     "name": "stdout",
     "output_type": "stream",
     "text": [
      "Constructor from A\n",
      "Hello constructor from class B\n"
     ]
    }
   ],
   "source": [
    "s5 = B()"
   ]
  },
  {
   "cell_type": "code",
   "execution_count": 61,
   "id": "9fa6da3c-14c9-4edc-a9f2-9a15adc4fecf",
   "metadata": {},
   "outputs": [
    {
     "name": "stdout",
     "output_type": "stream",
     "text": [
      "Hello another feature of class A\n"
     ]
    }
   ],
   "source": [
    "s5.featureOne()"
   ]
  },
  {
   "cell_type": "code",
   "execution_count": 62,
   "id": "b6cc2066-08fc-4850-90ba-9f1dbad57ab7",
   "metadata": {},
   "outputs": [
    {
     "name": "stdout",
     "output_type": "stream",
     "text": [
      "Feature of class A\n"
     ]
    }
   ],
   "source": [
    "s5.feature()"
   ]
  },
  {
   "cell_type": "code",
   "execution_count": null,
   "id": "4a6d5698-d0a5-47c5-8bde-c3cd636c2d15",
   "metadata": {},
   "outputs": [],
   "source": [
    "# Multiple inheritence : Child class will inherit from multiple parent class"
   ]
  },
  {
   "cell_type": "code",
   "execution_count": 80,
   "id": "05ec3c57-83e1-4486-8c1a-fcd20d51c280",
   "metadata": {},
   "outputs": [],
   "source": [
    "class C(B,A):   # Will call constructor of that class whose declaration as parameters is done first...in this case it will take class B first\n",
    "    def __init__(self):\n",
    "        super().__init__()\n",
    "        print(\"Hello constructor from C\")\n",
    "    def featureC():\n",
    "        print(\"Feature from class C\")\n",
    "    "
   ]
  },
  {
   "cell_type": "code",
   "execution_count": 81,
   "id": "8c16393e-4a8d-490d-a5d3-7ac361339c9d",
   "metadata": {},
   "outputs": [
    {
     "name": "stdout",
     "output_type": "stream",
     "text": [
      "Constructor from A\n",
      "Hello constructor from class B\n",
      "Hello constructor from C\n"
     ]
    }
   ],
   "source": [
    "c1= C()"
   ]
  }
 ],
 "metadata": {
  "kernelspec": {
   "display_name": "Python 3 (ipykernel)",
   "language": "python",
   "name": "python3"
  },
  "language_info": {
   "codemirror_mode": {
    "name": "ipython",
    "version": 3
   },
   "file_extension": ".py",
   "mimetype": "text/x-python",
   "name": "python",
   "nbconvert_exporter": "python",
   "pygments_lexer": "ipython3",
   "version": "3.12.7"
  }
 },
 "nbformat": 4,
 "nbformat_minor": 5
}
