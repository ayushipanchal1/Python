{
 "cells": [
  {
   "cell_type": "code",
   "execution_count": null,
   "id": "272e19e3-0fb5-4496-abd6-8ad9cecc3cb3",
   "metadata": {},
   "outputs": [],
   "source": [
    "# Q1. Creating folder and creating A-Z text files automatically in it "
   ]
  },
  {
   "cell_type": "code",
   "execution_count": 38,
   "id": "cf4180ae-df93-4cac-98c5-871a2d9ce6b3",
   "metadata": {},
   "outputs": [],
   "source": [
    "import os\n",
    "os.mkdir(\"C:\\\\Users\\\\Ayushi Panchal\\\\OneDrive\\\\Desktop\\\\Practice\")  # Creates a folder named \"Practice\" in the current directory"
   ]
  },
  {
   "cell_type": "code",
   "execution_count": 1,
   "id": "205bb63b-7acb-4a95-8109-55abf2ade2a5",
   "metadata": {},
   "outputs": [],
   "source": [
    "# Operning File\n",
    "import string\n",
    "for i in range(ord('A'),ord('Z')+1):\n",
    "    myfile=open(f\"C:\\\\Users\\\\Ayushi Panchal\\\\OneDrive\\\\Desktop\\\\Practice\\\\{chr(i)}.txt\",\"x\")\n"
   ]
  },
  {
   "cell_type": "code",
   "execution_count": 40,
   "id": "2cf56cda-ea32-475e-b17e-8ecb92bc92d6",
   "metadata": {},
   "outputs": [],
   "source": [
    "# Alternate way\n",
    "for letters in string.ascii_lowercase:\n",
    "    open(f\"C:\\\\Users\\\\Ayushi Panchal\\\\OneDrive\\\\Desktop\\\\Practice\\\\{letters}.txt\",\"x\")"
   ]
  },
  {
   "cell_type": "code",
   "execution_count": 2,
   "id": "b2a1bbfc-9246-425d-8daa-fc39974ad985",
   "metadata": {},
   "outputs": [],
   "source": [
    "myfile.close()"
   ]
  },
  {
   "cell_type": "code",
   "execution_count": null,
   "id": "0ea9d943-9efe-4220-b493-79dc5e8eb855",
   "metadata": {},
   "outputs": [],
   "source": [
    "# Q2. TO print letter in A B C format"
   ]
  },
  {
   "cell_type": "code",
   "execution_count": 27,
   "id": "c3065287-0216-47cb-bbbd-8908e67c4a7a",
   "metadata": {},
   "outputs": [
    {
     "name": "stdout",
     "output_type": "stream",
     "text": [
      "A B C\n",
      "D E F\n",
      "G H I\n",
      "J K L\n",
      "M N O\n",
      "P Q R\n",
      "S T U\n",
      "V W X\n",
      "Y Z\n"
     ]
    }
   ],
   "source": [
    "for a,b,c in zip(string.ascii_uppercase[0::3], string.ascii_uppercase[1::3],string.ascii_uppercase[2::3]):\n",
    "    print(a,b,c)\n",
    "print(\"Y Z\")"
   ]
  },
  {
   "cell_type": "code",
   "execution_count": null,
   "id": "b60435bb-0377-419b-9938-28225938f4e3",
   "metadata": {},
   "outputs": [],
   "source": [
    "# Q3. Appending two list in order to get full name"
   ]
  },
  {
   "cell_type": "code",
   "execution_count": 30,
   "id": "b8319866-b39b-462e-be54-49961e168b1f",
   "metadata": {},
   "outputs": [
    {
     "name": "stdout",
     "output_type": "stream",
     "text": [
      "['Ayushi Panchal', 'Dhruv Dudhat', 'Riya Sharaf']\n"
     ]
    }
   ],
   "source": [
    "list1 = [\"Ayushi\",\"Dhruv\",\"Riya\"]\n",
    "list2 = [\"Panchal\",\"Dudhat\",\"Sharaf\"] \n",
    "list3 = []\n",
    "\n",
    "for a,b in zip(list1,list2):\n",
    "    list3.append(f\"{a} {b}\")\n",
    "print(list3)\n",
    "    "
   ]
  },
  {
   "cell_type": "code",
   "execution_count": null,
   "id": "dfb97ce5-4f0b-46b0-a771-d94d6ffb6d29",
   "metadata": {},
   "outputs": [],
   "source": [
    "# Q4. Finding factorial of a number using inbuilt method"
   ]
  },
  {
   "cell_type": "code",
   "execution_count": 31,
   "id": "1b10e4ee-7688-4114-9672-c3b4c6eb1f86",
   "metadata": {},
   "outputs": [
    {
     "name": "stdin",
     "output_type": "stream",
     "text": [
      "Enter number:  5\n"
     ]
    },
    {
     "name": "stdout",
     "output_type": "stream",
     "text": [
      "120\n"
     ]
    }
   ],
   "source": [
    "import math as m\n",
    "num = int(input(\"Enter number: \"))\n",
    "result = m.factorial(num)\n",
    "print(result)"
   ]
  },
  {
   "cell_type": "code",
   "execution_count": null,
   "id": "fa0d424c-ec92-44a5-9418-9c13c3fc858b",
   "metadata": {},
   "outputs": [],
   "source": []
  }
 ],
 "metadata": {
  "kernelspec": {
   "display_name": "Python 3 (ipykernel)",
   "language": "python",
   "name": "python3"
  },
  "language_info": {
   "codemirror_mode": {
    "name": "ipython",
    "version": 3
   },
   "file_extension": ".py",
   "mimetype": "text/x-python",
   "name": "python",
   "nbconvert_exporter": "python",
   "pygments_lexer": "ipython3",
   "version": "3.12.7"
  }
 },
 "nbformat": 4,
 "nbformat_minor": 5
}
